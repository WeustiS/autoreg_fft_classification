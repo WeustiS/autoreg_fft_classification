{
 "cells": [
  {
   "cell_type": "code",
   "execution_count": 1,
   "id": "9d21ca26",
   "metadata": {},
   "outputs": [],
   "source": [
    "from model import Model\n",
    "import torch"
   ]
  },
  {
   "cell_type": "code",
   "execution_count": 2,
   "id": "4f5126d9",
   "metadata": {},
   "outputs": [],
   "source": [
    "dim = 64\n",
    "x = torch.rand(3, 32, 64).cuda()"
   ]
  },
  {
   "cell_type": "code",
   "execution_count": 3,
   "id": "17f7cc14",
   "metadata": {},
   "outputs": [],
   "source": [
    "model = Model(dim, 1000, 100).cuda()"
   ]
  },
  {
   "cell_type": "code",
   "execution_count": 4,
   "id": "7a78a4f9",
   "metadata": {},
   "outputs": [
    {
     "name": "stdout",
     "output_type": "stream",
     "text": [
      "torch.Size([3, 32, 64])\n"
     ]
    },
    {
     "data": {
      "text/plain": [
       "tensor([[-1.2639,  1.9314, -1.3986,  ..., -0.7838,  0.1717,  1.1012],\n",
       "        [-1.4077,  1.6232, -1.3180,  ..., -0.6267,  0.2813,  1.3781],\n",
       "        [-0.9774,  2.0013, -0.9321,  ..., -0.5883,  0.6439,  0.8517]],\n",
       "       device='cuda:0', grad_fn=<AddmmBackward0>)"
      ]
     },
     "execution_count": 4,
     "metadata": {},
     "output_type": "execute_result"
    }
   ],
   "source": [
    "model(x)"
   ]
  },
  {
   "cell_type": "code",
   "execution_count": null,
   "id": "70cd8375",
   "metadata": {},
   "outputs": [],
   "source": []
  },
  {
   "cell_type": "code",
   "execution_count": null,
   "id": "5bf0fd17",
   "metadata": {},
   "outputs": [],
   "source": []
  }
 ],
 "metadata": {
  "kernelspec": {
   "display_name": "Python 3 (ipykernel)",
   "language": "python",
   "name": "python3"
  },
  "language_info": {
   "codemirror_mode": {
    "name": "ipython",
    "version": 3
   },
   "file_extension": ".py",
   "mimetype": "text/x-python",
   "name": "python",
   "nbconvert_exporter": "python",
   "pygments_lexer": "ipython3",
   "version": "3.9.7"
  }
 },
 "nbformat": 4,
 "nbformat_minor": 5
}
